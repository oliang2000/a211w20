{
 "cells": [
  {
   "cell_type": "markdown",
   "metadata": {
    "slideshow": {
     "slide_type": "slide"
    }
   },
   "source": [
    "## ASTR 21000, Winter 2020\n",
    "\n",
    "## Homework Assignment 4 (55 points + 15 extra-credit points)\n",
    "\n",
    "## Drawing samples from distribution and implementing Differential Evolution minimization\n",
    "\n",
    "### Olina Liang"
   ]
  },
  {
   "cell_type": "code",
   "execution_count": 19,
   "metadata": {},
   "outputs": [],
   "source": [
    "import numpy as np\n",
    "import scipy.integrate as integrate\n",
    "import matplotlib.pyplot as plt\n",
    "%matplotlib inline\n",
    "\n",
    "from codes.plot_utils import plot_pretty\n",
    "plot_pretty(fontsize=12)\n",
    "from codes.constants import clight\n",
    "from codes.cosmology import d_L_vectorized"
   ]
  },
  {
   "cell_type": "markdown",
   "metadata": {},
   "source": [
    "### Exercise 1 (10 points): drawing pseudo-random integers and Gaussian pseudo-random numbers."
   ]
  },
  {
   "cell_type": "markdown",
   "metadata": {},
   "source": [
    "**Background.** During the past weeks (as well as before) we have encountered algorithms that rely on drawing random numbers with a given distribution. Most common case is random numbers, either integer or real, that are *uniformly distributed* within a given range. Uniform distribution means that all numbers within range have equal probability to be drawn, so for example, if we randomly draw uniformly distributed integers from 0 to 10, all numbers 0, 1, 2, 3, 4, 5, 6, 7, 8, 9, 10 will be drawn equal number of times after sufficiently large number of draws. \n",
    "\n",
    "In particular, in the *random walk* and *differential evolution* algorithms i described in class on Friday (see <a href=\"05_optimization.ipynb\"><tt>05_optimization.ipynb</tt></a> notebook) random samples (draws) from Gaussian and uniform distribution are used.  "
   ]
  },
  {
   "cell_type": "markdown",
   "metadata": {},
   "source": [
    "**Task 1a. (3 points)** <tt>nrand</tt> random intergers distributed uniformly in the range <tt>imin</tt> to <tt>imax</tt> can be drawn using routine <a href=\"https://docs.scipy.org/doc/numpy-1.15.1/reference/generated/numpy.random.random_integers.html\">numpy.random.random_integers<tt></tt></a>  as\n",
    "\n",
    "        irand = np.random.random_integers(low=imin, high=imax, size=nrand)\n",
    "\n",
    "where <tt>irand</tt> will be a vector of randomly drawn integers in the required range. Use this function to generate <tt>nrand=10</tt>, <tt>nrand=20</tt>, <tt>nrand=30</tt> numbers in the range from 0 to <tt>nrand-1</tt> and print them out. Examine the numbers and comment on their properties: do they look random? do the numbers repeat (if so, is this ok or no)? Comment on whether this function can be used to generate indices <tt>ir1, ir2, ir3</tt> unique and different from <tt>i</tt> in the DE algorithm shown above, and, if so, how would you do this. \n",
    "\n",
    "Note: numpy has another routine <a href=\"https://docs.scipy.org/doc/numpy-1.15.1/reference/generated/numpy.random.randint.html\"><tt>numpy.random.randint</tt></a> to generate random integers, but this routine generates numbers excluding <tt>imax</tt>, i.e. in the semi-open interval <tt>[imin,imax)</tt>. "
   ]
  },
  {
   "cell_type": "markdown",
   "metadata": {},
   "source": [
    "- I'm using numpy.random.randint because random.random_integers gives the DeprecationWarning.\n",
    "- The numbers look random by looking at the histograms because they are uniform. But the numbers do repeat, which means they can't be used to generate unique random indices different from each other directly. Possible way to deal with this is to just run the generator again when the number repeated."
   ]
  },
  {
   "cell_type": "code",
   "execution_count": 70,
   "metadata": {},
   "outputs": [],
   "source": [
    "def test_rand(func, args, n_samples):\n",
    "    imin, imax, nrand = args\n",
    "    i = 0\n",
    "    l = np.array([])\n",
    "    while i < n_samples:\n",
    "        l = np.concatenate((l, func(imin, imax, nrand)), axis = None)\n",
    "        i += 1\n",
    "    return l"
   ]
  },
  {
   "cell_type": "code",
   "execution_count": 74,
   "metadata": {},
   "outputs": [
    {
     "name": "stdout",
     "output_type": "stream",
     "text": [
      "[9 6 6 8 0 6 0 7 5 4]\n"
     ]
    },
    {
     "data": {
      "image/png": "[encoded data removed]",
      "text/plain": [
       "<Figure size 432x288 with 1 Axes>"
      ]
     },
     "metadata": {},
     "output_type": "display_data"
    }
   ],
   "source": [
    "nrand = 10\n",
    "print(np.random.randint(0, nrand, nrand))\n",
    "a = plt.hist(test_rand(np.random.randint, [0, nrand, nrand], 100), bins = nrand)"
   ]
  },
  {
   "cell_type": "code",
   "execution_count": 75,
   "metadata": {},
   "outputs": [
    {
     "name": "stdout",
     "output_type": "stream",
     "text": [
      "[19  6  3  3  4  1  6 10  5  7 15 15 10  0  9  5  8  3 18  4]\n"
     ]
    },
    {
     "data": {
      "image/png": "[encoded data removed]",
      "text/plain": [
       "<Figure size 432x288 with 1 Axes>"
      ]
     },
     "metadata": {},
     "output_type": "display_data"
    }
   ],
   "source": [
    "nrand = 20\n",
    "print(np.random.randint(0, nrand, nrand))\n",
    "a = plt.hist(test_rand(np.random.randint, [0, nrand, nrand], 100), bins = nrand)"
   ]
  },
  {
   "cell_type": "code",
   "execution_count": 82,
   "metadata": {},
   "outputs": [
    {
     "name": "stdout",
     "output_type": "stream",
     "text": [
      "[24 14  9 17 21  9 15 11 14 28 29 10 22  3 22 16 26 16 17  9 14  5 13 17\n",
      " 22 25  1  8 26  3]\n"
     ]
    },
    {
     "data": {
      "image/png": "[encoded data removed]",
      "text/plain": [
       "<Figure size 432x288 with 1 Axes>"
      ]
     },
     "metadata": {},
     "output_type": "display_data"
    }
   ],
   "source": [
    "nrand = 30\n",
    "print(np.random.randint(0, nrand, nrand))\n",
    "a = plt.hist(test_rand(np.random.randint, [0, nrand, nrand], 100), bins = nrand)"
   ]
  },
  {
   "cell_type": "markdown",
   "metadata": {},
   "source": [
    "**Task 1b. (2 points)** Another possibility of producing indices <tt>ir1, ir2, ir3</tt> is to take an ordered list of integer numbers from 0 to <tt>npop-1</tt> and randomly *permute* its elements using numpy function <a href=\"https://docs.scipy.org/doc/numpy-1.13.0/reference/generated/numpy.random.permutation.html\"><tt>numpy.random.permutation</tt></a>. Experiment with this function for a vector of a small size (say 10) and examine its effect on the order of the vector elements. Develop an algorithm of producing  <tt>ir1, ir2, ir3</tt> indices for the DE algorithm using this function. Do you see any advantages or disadvantages of this method over the method discussed in 1a? "
   ]
  },
  {
   "cell_type": "markdown",
   "metadata": {},
   "source": [
    "- From looking at the histogram, we see the permutation gives random position of each number everytime. It also makes sure that ir1, ir2 and ir3 are unique which makes it easier to implement than numpy.random.randint. Possible disadvantage to 1a might be that it computes all 10 numbers when we only need 3."
   ]
  },
  {
   "cell_type": "code",
   "execution_count": 40,
   "metadata": {},
   "outputs": [
    {
     "data": {
      "image/png": "[encoded data removed]",
      "text/plain": [
       "<Figure size 525x350 with 1 Axes>"
      ]
     },
     "metadata": {},
     "output_type": "display_data"
    }
   ],
   "source": [
    "# test the possibilities of the postion of 1, other numbers have similar histogram\n",
    "npop = 10\n",
    "lst = np.arange(npop)\n",
    "i = 0\n",
    "l = []\n",
    "while i < npop * 100:\n",
    "    i += 1\n",
    "    p = np.random.permutation(lst)\n",
    "    l.append(np.where(p == 1)[0][0])\n",
    "plt.figure(figsize=(3, 2)) \n",
    "a = plt.hist(l, bins = npop)"
   ]
  },
  {
   "cell_type": "markdown",
   "metadata": {},
   "source": [
    "**Task 1c (5 points).** Gaussian random numbers to produce stochastic scaling parameter $s$ can be drawn using routine <a href=\"https://docs.scipy.org/doc/numpy-1.15.0/reference/generated/numpy.random.normal.html\"><tt>numpy.random.normal</tt></a>. For example to produce <tt>nrnd</tt> pseudo-random draws from a Gaussian distribution with the mean <tt>mu</tt> and dispersion <tt>sigma</tt> we use\n",
    "\n",
    "    xgauss = np.random.normal(loc=mu, scale=sigma, size=nrnd)\n",
    "    \n",
    "Random numbers are samples drawn from a given probability distribution function (pdf), if the probability density of the draws is described by the pdf function. Thus, we can generate a sufficiently large number of pseudo-random numbers using <a href=\"https://docs.scipy.org/doc/numpy-1.15.0/reference/generated/numpy.random.normal.html\"><tt>numpy.random.normal</tt></a>, as shown above, and then test whether they follow a Gaussian distribution. Namely, we can construct their histogram, which is the density of samples per histogram bins, and check whether the histogram is described by the Gaussian distribution: \n",
    "\n",
    "$$p_{\\rm G}(x) =\\frac{1}{\\sqrt{2\\pi}\\sigma}\\, \\exp\\left[-\\frac{1}{2}\\left(\\frac{x-\\mu}{\\sigma}\\right)^2\\right].$$\n",
    "\n",
    "Choose the number of bins that should be appropriate for such bins and estimate the required number of random draws using what you learned about histogram binning previously, and explain your choice. Generate the corresponding number of random draws, histogram them and compare with the equation for the Gaussian pdf above."
   ]
  },
  {
   "cell_type": "markdown",
   "metadata": {},
   "source": [
    "- 1000 randoms draws are chosen, for the data to be somewhat consistent with the disctribution its being drawn from. Also 20 bins are chosen for the histogram to show a random shape but too much of random noise."
   ]
  },
  {
   "cell_type": "code",
   "execution_count": 108,
   "metadata": {},
   "outputs": [
    {
     "data": {
      "image/png": "[encoded data removed]",
      "text/plain": [
       "<Figure size 432x288 with 1 Axes>"
      ]
     },
     "metadata": {},
     "output_type": "display_data"
    }
   ],
   "source": [
    "def gaussian_distr(x, miu, sigma):\n",
    "    n1 = 1/np.sqrt(2*np.pi*sigma)\n",
    "    n2 = np.exp(-1/2*((x - miu)/sigma)**2)\n",
    "    return n1*n2\n",
    "\n",
    "x = np.linspace(-5, 5, 1000)\n",
    "y = gaussian_distr(x, 0, 1)\n",
    "plt.plot(x, y)\n",
    "\n",
    "nrand = 10\n",
    "ntimes = 100\n",
    "l = test_rand(np.random.normal, [0, 1, nrand], ntimes)\n",
    "a = plt.hist(l, density=True, bins = 20)"
   ]
  },
  {
   "cell_type": "markdown",
   "metadata": {},
   "source": [
    "### Exercise 2 (20 points): drawing pseudo-random numbers following a given distribution.\n",
    "\n",
    "**Background: the inverse transform method.** There is a class of algorithms to generate random numbers drawn from a given distribution function. All of these algorithms are based on the algorithm to generate uniformly distributed random numbers that is described in <a href=\"06a_prngs.ipynb\"><tt>06a_prngs.ipynb</tt></a> notebook and will be discussed in class on Wednesday. \n",
    "\n",
    "One of the most commonly used algorithms to draw samples from a given 1-dimensional distribution $p(x)$ is called *the inverse transform method,* which uses the cumulative distribution function of the target pdf $p(x)$ normalized to 1 at some interval $[a,b]$ that we want to sample:\n",
    "\n",
    "$$F(\\xi) = \\int\\limits_{a}^\\xi p(x) dx;\\ \\ \\ \\mathrm{where}\\ \\ \\xi\\in[a,b],\\ F\\in[0,1],\\ \\ \\mathrm{and}\\ \\  \\int\\limits_a^b p(x)dx =1$$\n",
    "\n",
    "to generate samples of $p(x)$. Namely, if $y=F(\\xi)$ can be inverted either analytically or numerically so that we can easily compute $\\xi$ given a value of $y=F(\\xi)$, then $\\xi$ will be samples of $p(x)$, if $y$ are samples of the uniform distribution defined on the interval $[0,1)$. \n",
    "\n",
    "See <a href=\"06c_distribution_sampling.ipynb\"><tt>06c_distribution_sampling.ipynb</tt></a> notebook for details on the history and logic behind this method. "
   ]
  },
  {
   "cell_type": "markdown",
   "metadata": {},
   "source": [
    "**Task 2a (10 points).** \n",
    "Write a routine to sample the following distribution that depends on parameter $a$: \n",
    "\n",
    "$$g(x)=\n",
    " \\begin{cases}\n",
    "            1/\\sqrt{x},&\\  \\mathrm{for}\\ \\ x\\in[1/a,a],\\\\\n",
    "            0, &    \\mathrm{otherwise.\\ }\n",
    "    \\end{cases}$$\n",
    "    \n",
    "Note that the above distribution is *not* a pdf, because it is not normalized to 1.0 on the interval $[1/a,a]$. Thus, you should compute the normalization constant first. You should also compute the cumulative distribution function $F(x)$ for the normalized $\\tilde{g}(x)$ and its inverse.   \n",
    "\n",
    "Your routine should take as input parameter $a$ and the number of samples, $N_s$, to be generated and return a vector of $N_s$, pseudo-random numbers distributed with $g(x)$ distribution.\n",
    "    \n",
    "For efficiency, your routine must be written using numpy vector operations and should not use loops. \n",
    "\n",
    "The vector of <tt>nrnd</tt> uniformly distributed pseudo-random numbers in the interval $[0,1)$ can be generated using routine <a href=\"https://docs.scipy.org/doc/numpy-1.15.0/reference/generated/numpy.random.uniform.html\"><tt>numpy.random.uniform</tt></a> as \n",
    "    \n",
    "    yrnd = np.random.uniform(size=nrnd)\n",
    "\n",
    "Note that the sampling routine you develop here will be used in the implementation of the \"affine-invariant\" Markov Chain Monte Carlo (MCMC) sampling method of Goodman & Weare as part of the homework 4 assignment.  This is yet another example of a simpler method problem used as an element of a more complex algorithm. "
   ]
  },
  {
   "cell_type": "markdown",
   "metadata": {},
   "source": [
    "- First we calculate the inverse numerically."
   ]
  },
  {
   "cell_type": "markdown",
   "metadata": {},
   "source": [
    "- The integral of the g(x) function is:"
   ]
  },
  {
   "cell_type": "markdown",
   "metadata": {},
   "source": [
    "$$\\int\\limits_{1/a}^a g(x) dx \n",
    "= \\int\\limits_{1/a}^a \\dfrac{1}{\\sqrt{x}} dx \n",
    "= 2{x^{1/2}} \\Big|_{1/a}^a \n",
    "= 2(a^{1/2} - {1/a}^{1/2}) $$"
   ]
  },
  {
   "cell_type": "markdown",
   "metadata": {},
   "source": [
    "- To normalize, we let $c = 2(a^{1/2} - {1/a}^{1/2})$ and divide by c"
   ]
  },
  {
   "cell_type": "markdown",
   "metadata": {},
   "source": [
    "$$p(x)=\n",
    " \\begin{cases}\n",
    "            \\dfrac{1}{c\\sqrt{x}},&\\  \\mathrm{for}\\ \\ x\\in[1/a,a]\\\\\n",
    "            0, &    \\mathrm{otherwise\\ }\n",
    "    \\end{cases}$$"
   ]
  },
  {
   "cell_type": "markdown",
   "metadata": {},
   "source": [
    "- The analytic solution of $F^{-1}(\\xi)$ is:"
   ]
  },
  {
   "cell_type": "markdown",
   "metadata": {},
   "source": [
    "$$F(\\xi) = \\int\\limits_{1/a}^\\xi p(x) dx = \\int\\limits_{1/a}^\\xi \\dfrac{1}{c\\sqrt{x}} dx = \\dfrac{2}{c}x^{1/2} \\Big|_{1/a}^\\xi = \\dfrac{2}{c}(\\xi^{1/2} - {1/a}^{1/2}) $$"
   ]
  },
  {
   "cell_type": "markdown",
   "metadata": {},
   "source": [
    "$$F^{-1}(\\xi) = (\\dfrac{cy}{2} + \\dfrac{1}{\\sqrt{a}})^2$$"
   ]
  },
  {
   "cell_type": "code",
   "execution_count": 131,
   "metadata": {},
   "outputs": [],
   "source": [
    "#Inverse of p(x) from g(x)\n",
    "def g_inv(y, a):\n",
    "    assert a > 1, \"a should be greater than 1\"\n",
    "    c = 2*(a**(1/2) - (1/a)**(1/2))\n",
    "    return (c*y/2 + 1/np.sqrt(a))**2"
   ]
  },
  {
   "cell_type": "code",
   "execution_count": 156,
   "metadata": {},
   "outputs": [],
   "source": [
    "def gdist(nrnd = 1, a = 2.0):\n",
    "    '''\n",
    "    function to sample distribution g(x) = 1/sqrt(x) for x in [1/a,a] and g(x)=0 otherwise.\n",
    "    \n",
    "    Parameters:\n",
    "    -----------\n",
    "    nrnd(integer, default is 1): number of pseudo-random draws of g(x) to generate\n",
    "    a(float): parameter defining the range of the distribution (see above\n",
    "       \n",
    "    Returns: \n",
    "    --------\n",
    "    a numpy real 1d vector of size nrnd\n",
    "    (pseudo-random numbers distributed with g(x), as defined above \n",
    "    '''\n",
    "    yrnd = np.random.uniform(size = nrnd)\n",
    "    return np.apply_along_axis(lambda y: g_inv(y, a = a), axis = 0, arr = yrnd)"
   ]
  },
  {
   "cell_type": "code",
   "execution_count": 157,
   "metadata": {},
   "outputs": [
    {
     "data": {
      "image/png": "[encoded data removed]",
      "text/plain": [
       "<Figure size 432x288 with 1 Axes>"
      ]
     },
     "metadata": {},
     "output_type": "display_data"
    }
   ],
   "source": [
    "a = plt.hist(gdist(nrnd = 10000), density = True)"
   ]
  },
  {
   "cell_type": "code",
   "execution_count": 158,
   "metadata": {},
   "outputs": [
    {
     "data": {
      "image/png": "[encoded data removed]",
      "text/plain": [
       "<Figure size 432x288 with 1 Axes>"
      ]
     },
     "metadata": {},
     "output_type": "display_data"
    }
   ],
   "source": [
    "#define the g(x) function to check result\n",
    "def g(x, a):\n",
    "    assert a > 1, \"a should be greater than 1\"\n",
    "    if 1/a <= x <= a:\n",
    "        return 1/np.sqrt(x)\n",
    "    else:\n",
    "        return 0\n",
    "g = np.vectorize(g, otypes=[np.float64])\n",
    "\n",
    "a = 2\n",
    "c = 2*(a**(1/2) - (1/a)**(1/2))\n",
    "x = np.linspace(0.3,5,100)\n",
    "y = g(x, a)/c\n",
    "plt.plot(x, y)\n",
    "plt.plot(x, 1/np.sqrt(x)/c)\n",
    "a = plt.hist(gdist(nrnd = 10000), density = True)"
   ]
  },
  {
   "cell_type": "code",
   "execution_count": 160,
   "metadata": {},
   "outputs": [
    {
     "data": {
      "image/png": "[encoded data removed]",
      "text/plain": [
       "<Figure size 432x288 with 1 Axes>"
      ]
     },
     "metadata": {},
     "output_type": "display_data"
    }
   ],
   "source": [
    "#define the g(x) function to check result\n",
    "def g(x, a):\n",
    "    assert a > 1, \"a should be greater than 1\"\n",
    "    if 1/a <= x <= a:\n",
    "        return 1/np.sqrt(x)\n",
    "    else:\n",
    "        return 0\n",
    "g = np.vectorize(g, otypes=[np.float64])\n",
    "\n",
    "a = 4\n",
    "c = 2*(a**(1/2) - (1/a)**(1/2))\n",
    "x = np.linspace(0.2,5,100)\n",
    "y = g(x, a)/c\n",
    "plt.plot(x, y)\n",
    "plt.plot(x, 1/np.sqrt(x)/c)\n",
    "a = plt.hist(gdist(nrnd = 10000, a = 4), density = True)"
   ]
  },
  {
   "cell_type": "markdown",
   "metadata": {},
   "source": [
    "- Blue lines shows the normalized piecewise function, orange lines shows the normalized function of $1/\\sqrt{x}$, green line shows the random sample distribution. We can see that they coincide, showing that the function draws random numbers from the desired pdf."
   ]
  },
  {
   "cell_type": "markdown",
   "metadata": {},
   "source": [
    "**Task 2b (10 points).** Suppose we want to draw samples from a more complicated pdf, $p(x) = A x^{-\\alpha}\\exp[-x/b]$, for which cumulative distribution function cannot be inverted analytically. "
   ]
  },
  {
   "cell_type": "markdown",
   "metadata": {},
   "source": [
    "- To calculate the integral, we can use the polynomial method in hw2."
   ]
  },
  {
   "cell_type": "code",
   "execution_count": 290,
   "metadata": {},
   "outputs": [],
   "source": [
    "#all from hw2\n",
    "def cubic_spline_coefficients(xi, fi):\n",
    "    \"\"\"\n",
    "    compute coefficients of the interpolating natural cubic spline\n",
    "    see Appendix in the note for the derivation and details of the algorithm\n",
    "    \n",
    "    Parameters:\n",
    "        xi, fi: numpy float vectors\n",
    "                tabulated points and function values\n",
    "            \n",
    "    Returns:\n",
    "        a, b, c, d: numpy float vectors\n",
    "                cubic spline coefficients \n",
    "                dx = x - xi[i]\n",
    "                fx = a[i] + dx*(b[i] + c[i]*dx + d[i]*dx*dx)\n",
    "    \"\"\"\n",
    "    delx = np.diff(xi); delf = np.diff(fi)\n",
    "    vx = np.zeros_like(xi)\n",
    "    vx[1:-1:] = 3.*(delf[1::]/delx[1::] - delf[:-1:]/delx[:-1:])\n",
    "    nx = np.size(xi)\n",
    "    diags = np.zeros((3, nx))\n",
    "    diags[1,0] = 1.; diags[1,-1] = 1.\n",
    "    diags[1,1:-1:] = 2. * (delx[1::] + delx[:-1:])\n",
    "    diags[0,1:] = delx[:]\n",
    "    diags[2,1:-1] = delx[1:]\n",
    "    ac, bc, cc, dc = map(np.array, (diags[0,:], diags[1,:], diags[2,:], vx)) # copy arrays\n",
    "    for k in range(1, nx):\n",
    "        mk = ac[k] / bc[k-1]\n",
    "        bc[k] = bc[k] - mk * cc[k-1] \n",
    "        dc[k] = dc[k] - mk * dc[k-1]\n",
    "    c = np.zeros_like(bc)\n",
    "    c[-1] = dc[-1] / bc[-1]\n",
    "    for k in range(nx-2, -1, -1):\n",
    "        c[k] = (dc[k]-cc[k]*c[k+1])/bc[k]\n",
    "    b = delf[::]/delx[::] - (c[1::] + 2.*c[:-1:])*delx[::]/3.\n",
    "    d = (c[1::] - c[:-1:])/(3.*delx[::]) \n",
    "    a = fi\n",
    "    return a, b, c, d\n",
    "\n",
    "def cubic_spline(xt, xi, a, b, c, d):\n",
    "    \"\"\"\n",
    "    piecewise linear approximation of f(x) given input of tabulated values of xi and fi\n",
    "    note that xi are expected in ascending order\n",
    "    \n",
    "    Returns:\n",
    "        vector of spline values at test points x \n",
    "    \"\"\"\n",
    "    n = np.size(xi) - 1\n",
    "    fxt = np.empty_like(xt)\n",
    "    for j, x in enumerate(xt):\n",
    "        for i in range(n):\n",
    "            if (x >= xi[i]) and (x <= xi[i+1]):\n",
    "                # reusing computations is always a good idea, but here we also can return dfdx\n",
    "                dx = x - xi[i]\n",
    "                fxt[j] = a[i] + dx*(b[i] + c[i]*dx + d[i]*dx*dx)\n",
    "    return fxt\n",
    "\n",
    "def get_integral(xi, a, b, c, d):\n",
    "    \"\"\"\n",
    "    Calculate the integral of cubic spline.\n",
    "    Inputs:\n",
    "    xi: list of x values\n",
    "    a, b, c, d: list of coefficients for the polynomial interpolation\n",
    "    \n",
    "    Returns a list of yi values for the integrated function.\n",
    "    \"\"\"\n",
    "    x = []\n",
    "    y = []\n",
    "    integral = 0\n",
    "    for i in range(0,len(xi) - 1):\n",
    "        x1 = xi[i]\n",
    "        x2 = xi[i + 1]\n",
    "        d12 = x2 - x1\n",
    "        s = d12*(a[i] + d12*(1/2*b[i] + d12*(1/3*c[i] + d12*1/4*d[i])))\n",
    "        integral += s\n",
    "        x.append(x2)\n",
    "        y.append(integral)\n",
    "    return (np.array(x), np.array(y))"
   ]
  },
  {
   "cell_type": "code",
   "execution_count": 347,
   "metadata": {},
   "outputs": [],
   "source": [
    "#define the distribution function\n",
    "def p(x, A, alpha, b):\n",
    "    return A*x**(-alpha)*np.exp(-x/b)"
   ]
  },
  {
   "cell_type": "code",
   "execution_count": 333,
   "metadata": {},
   "outputs": [
    {
     "data": {
      "text/plain": [
       "[<matplotlib.lines.Line2D at 0x1527eec0f0>]"
      ]
     },
     "execution_count": 333,
     "metadata": {},
     "output_type": "execute_result"
    },
    {
     "data": {
      "image/png": "[encoded data removed]",
      "text/plain": [
       "<Figure size 432x288 with 1 Axes>"
      ]
     },
     "metadata": {},
     "output_type": "display_data"
    }
   ],
   "source": [
    "#show the integration of pdf works\n",
    "xmin, xmax = 0.5, 10\n",
    "ntr = int(xmax - xmin) * 1000\n",
    "A, alpha, b = 1, 2, 2\n",
    "\n",
    "xtr = np.linspace(xmin, xmax, ntr)\n",
    "ftr = np.apply_along_axis(lambda x: p(x, A, alpha, b), axis = 0, arr = xtr) \n",
    "a, b, c, d = cubic_spline_coefficients(xtr, ftr)\n",
    "xt = np.linspace(xmin, xmax, ntr)\n",
    "spline_int = cubic_spline(xt, xtr, a, b, c, d)\n",
    "\n",
    "x, y = get_integral(xtr, a, b, c, d)\n",
    "y/y.max() #normalize\n",
    "\n",
    "plt.plot(xtr, ftr) #blue, original function\n",
    "plt.plot(x, y) #orange, nomalized cdf"
   ]
  },
  {
   "cell_type": "markdown",
   "metadata": {},
   "source": [
    "- To invert the equation, we could use the spline technique in hw2, by sampling points from the distribution and inverting them, them connecting the points with splines. "
   ]
  },
  {
   "cell_type": "code",
   "execution_count": 307,
   "metadata": {},
   "outputs": [],
   "source": [
    "#hw2\n",
    "def invert_func_spline(xtr, ftr, xt):\n",
    "    \"\"\"\n",
    "    Uses spline approach to invert a function by estimating x for y.\n",
    "    \n",
    "    Parameters:\n",
    "    -----------\n",
    "    xtr, ftr: array like\n",
    "            vectors of training points and tabulated function values\n",
    "    xt: array like\n",
    "            vector of test points\n",
    "    Returns:\n",
    "    --------\n",
    "    ft: array like\n",
    "        f-1 values of the polynomial at xt \n",
    "    a:  array like\n",
    "        polynomial coefficients\n",
    "    \"\"\"\n",
    "    V = np.vander(ftr, N =  np.size(ftr), increasing = True) #Vandermonde matrix\n",
    "    a = np.linalg.solve(V, xtr) #solve for polynomial coefficients vector a, as a = V^{-1}f\n",
    "    pfit = np.poly1d(a[::-1]) \n",
    "    ft = pfit(xt)\n",
    "    return ft, a"
   ]
  },
  {
   "cell_type": "code",
   "execution_count": 334,
   "metadata": {},
   "outputs": [
    {
     "data": {
      "text/plain": [
       "[<matplotlib.lines.Line2D at 0x152791fcc0>]"
      ]
     },
     "execution_count": 334,
     "metadata": {},
     "output_type": "execute_result"
    },
    {
     "data": {
      "image/png": "[encoded data removed]",
      "text/plain": [
       "<Figure size 432x288 with 1 Axes>"
      ]
     },
     "metadata": {},
     "output_type": "display_data"
    }
   ],
   "source": [
    "#showing that the inversion works\n",
    "xtr, ftr = x, y\n",
    "xt = np.linspace(ftr.min(), ftr.max(), 100)\n",
    "ft, a = invert_func_spline(xtr, ftr, xt)\n",
    "\n",
    "plt.gca().set_aspect('equal', adjustable='box')\n",
    "plt.plot(xtr, ftr) #blue, original cdf\n",
    "plt.plot(np.arange(10), np.arange(10)) #x = y line\n",
    "plt.plot(xt, ft) #green, inverted cdf"
   ]
  },
  {
   "cell_type": "markdown",
   "metadata": {},
   "source": [
    "- Combining the above together in a function and test, we can see that the distribution looks similar to the original one."
   ]
  },
  {
   "cell_type": "code",
   "execution_count": 361,
   "metadata": {},
   "outputs": [],
   "source": [
    "def pdist(nrnd = 1, A = 1, alpha = 2, b = 2, xmin = 0.5, xmax = 10.):\n",
    "    '''\n",
    "    Function to sample distribution p(x)=Ax^(-a)exp(-x/b).\n",
    "    \n",
    "    Parameters:\n",
    "    -----------\n",
    "    nrnd(integer, default is 1): number of pseudo-random draws of p(x) to generate\n",
    "    A, alpha, b(float): parameter for the distribution\n",
    "    xmax(float): since the distribution has a range of infinity, set the cutoff of x to lim\n",
    "       \n",
    "    Returns: \n",
    "    --------\n",
    "    a numpy real 1d vector of size nrnd\n",
    "    (pseudo-random numbers distributed with p(x), as defined above \n",
    "    '''\n",
    "    assert xmin > 0, \"xmin should be greater than 0\"\n",
    "    assert xmax > xmin, \"xmax should be greater than xmin\"  \n",
    "    ntr = int(xmax - xmin) * 1000\n",
    "    xtr = np.linspace(xmin, xmax, ntr)\n",
    "    ftr = np.apply_along_axis(lambda x: p(x, A, alpha, b), axis = 0, arr = xtr) \n",
    "    a, b, c, d = cubic_spline_coefficients(xtr, ftr)\n",
    "    xt = np.linspace(xmin, xmax, ntr)\n",
    "    x, px = get_integral(xtr, a, b, c, d)\n",
    "    px/px.max() #normalize\n",
    "    \n",
    "    rand = np.random.uniform(size = nrnd)\n",
    "    prand, a = invert_func_spline(x, px, rand)\n",
    "    \n",
    "    return prand"
   ]
  },
  {
   "cell_type": "code",
   "execution_count": 365,
   "metadata": {},
   "outputs": [
    {
     "data": {
      "text/plain": [
       "[<matplotlib.lines.Line2D at 0x15282ff828>]"
      ]
     },
     "execution_count": 365,
     "metadata": {},
     "output_type": "execute_result"
    },
    {
     "data": {
      "image/png": "[encoded data removed]",
      "text/plain": [
       "<Figure size 720x288 with 1 Axes>"
      ]
     },
     "metadata": {},
     "output_type": "display_data"
    }
   ],
   "source": [
    "plt.figure(figsize=(10, 4))\n",
    "\n",
    "t = pdist(nrnd = 1000)\n",
    "a = plt.hist(t, density = True)\n",
    "\n",
    "xmin, xmax, ntr = 0.5, 2.5, 100\n",
    "A, alpha, b = 1, 2, 2\n",
    "x = np.linspace(xmin, xmax, ntr)\n",
    "px = np.apply_along_axis(lambda x: p(x, A, alpha, b), axis = 0, arr = x) \n",
    "plt.plot(x, px)"
   ]
  },
  {
   "cell_type": "markdown",
   "metadata": {},
   "source": [
    "- The pdf and the histogram of random draws coincide, which shows that the function works."
   ]
  },
  {
   "cell_type": "markdown",
   "metadata": {},
   "source": [
    "\n"
   ]
  },
  {
   "cell_type": "markdown",
   "metadata": {},
   "source": [
    "### Exercise 3: implementing and testing a Differential Evolution algorithm (25 points + 10 extra-credit points)\n",
    "\n",
    "**Background.** Minimization in many dimensions is generally a complicated task. However, a class of <a href=\"https://en.wikipedia.org/wiki/Differential_evolution\">Differential Evolution</a> (DE) algorithms developed from the initial ideas of R. Storn and K. Price in 1997 (<a href=\"https://link.springer.com/article/10.1023%2FA%3A1008202821328\">Storn & Price 1997</a>), are relatively simple to implement, work in arbitrary number of dimensions, do not require function derivatives, allow imposing bounds on the domain, and are quite efficient in minimizing multi-dimensional functions."
   ]
  },
  {
   "cell_type": "markdown",
   "metadata": {},
   "source": [
    "**Task 3a. (20 points)** Use pseudo-code of the DE algorithm in exercise 1 to implement DE minimization routine with the following interface (15 points):\n",
    "\n",
    "    def minimize_by_differential_evolution(func, x0, atol=1.e-6, s=1.0, sigs=0.1, bounds=None):\n",
    "        \"\"\"\n",
    "        Parameters:\n",
    "        ------------\n",
    "        func - Python function object\n",
    "               function to minimize, should expect x0 as a parameter vector\n",
    "        x0   - vector of real numbers of shape (npop, nd), \n",
    "                where npop is population size and nd is the number of func parameters\n",
    "        atol - real\n",
    "                absolute tolerance threshold for change of population member positions\n",
    "        s    - real \n",
    "                mean of the scaling parameter s\n",
    "        sigs - real \n",
    "                rms dispersion of s for drawing Gaussian random numbers center on s\n",
    "        bounds - array of tuples \n",
    "                bounds for the minimization exploration; define the region in which to search for the minimum\n",
    "        \"\"\"\n",
    "        \n",
    "Try to \"vectorize\" as much of the algorithm as possible.\n",
    "        \n",
    "Assuming that we are searching for a minimum within some rectangular domain defined by the minimum and maximum values along each coordinate axis: $\\mathbf{x}_{\\rm min}$ and $\\mathbf{x}_{\\rm max}$, we can initialize the population members as \n",
    "\n",
    "$$\\mathbf{x}_0 = \\mathbf{x}_{\\rm min} + (\\mathbf{x}_{\\rm max}-\\mathbf{x}_{\\rm min}) \\times \\mathrm{rand}(0,1),$$\n",
    "\n",
    "where $\\mathrm{rand}(0,1)$ is a random number uniformly distributed from 0 to 1, generated using <tt>np.random.uniform</tt>.  \n",
    "\n",
    "Test your implementation in 2D and 5D using the Rosenbrock function similarly how optimization routines were tested in the <a href=\"05_optimization.ipynb\"><tt>05_optimization.ipynb</tt></a> notebook and present results of your tests along with your implementation (2 points). \n",
    "\n",
    "Experiment with the size of the population and values of the parameter $s$ timing how long it takes your function to find the minimum. Are the results robust to population size and $s$? Briefly describe results of your findings (3 points). If you do not succeed implementing routine fully, you can still do this part of the task using routine <tt>scipy.optimize.differential_evolution</tt>, as illustrated in the <a href=\"05_optimization.ipynb\"><tt>05_optimization.ipynb</tt></a> notebook."
   ]
  },
  {
   "cell_type": "code",
   "execution_count": 59,
   "metadata": {},
   "outputs": [],
   "source": [
    "#helper functions for minimize_by_differential_evolution\n",
    "def test_boundaries(xtry, bounds):\n",
    "    '''\n",
    "    Check if xtry are within bounds.\n",
    "    '''\n",
    "    if bounds == None:\n",
    "        return True\n",
    "    i = 0\n",
    "    for par in xtry:\n",
    "        if par < bounds[i][0] or par > bounds[i][1]:\n",
    "            return False\n",
    "        i += 1\n",
    "    return True\n",
    "\n",
    "def generate_x0(bounds, npop):\n",
    "    x0 = []\n",
    "    i = 0\n",
    "    while i < npop:\n",
    "        x0i = []\n",
    "        for b in bounds:\n",
    "            x0i.append(b[0] + (b[1] - b[0])*np.random.uniform())\n",
    "        i += 1\n",
    "        x0.append(x0i)\n",
    "    return np.array(x0)"
   ]
  },
  {
   "cell_type": "code",
   "execution_count": 49,
   "metadata": {},
   "outputs": [],
   "source": [
    "def minimize_by_differential_evolution(func, npop, bounds, atol=1.e-6, s=1.0):\n",
    "    \"\"\"\n",
    "    Parameters:\n",
    "    ------------\n",
    "    func - Python function object\n",
    "            function to minimize, should expect x0 as a parameter vector\n",
    "    npop   - size of test population\n",
    "    atol - real\n",
    "            absolute tolerance threshold for change of population member positions\n",
    "    s    - real \n",
    "            mean of the scaling parameter s\n",
    "    sigs - real \n",
    "            rms dispersion of s for drawing Gaussian random numbers center on s\n",
    "    bounds - array of tuples \n",
    "            bounds for the minimization exploration; define the region in which to search for the minimum\n",
    "    \"\"\"\n",
    "    assert npop > 3, \"population size should be greater than 3\"\n",
    "    x0 = generate_x0(bounds, npop)\n",
    "    xnow = np.copy(x0)\n",
    "    xnext = np.zeros_like(xnow)\n",
    "    max_move = atol\n",
    "    while max_move >= atol: \n",
    "        fnow = np.apply_along_axis(lambda row: func(row), axis = 1, arr = xnow)\n",
    "        max_move = 0\n",
    "        for i in range(npop):\n",
    "            r = list(range(npop))\n",
    "            r.remove(i)\n",
    "            ir1, ir2, ir3 = np.random.permutation(r)[0:3]\n",
    "            \n",
    "            s = np.random.normal(s, 1, 1)\n",
    "            xtry = xnow[ir3] + s * (xnow[ir1] - xnow[ir2])\n",
    "            \n",
    "            if test_boundaries(xtry, bounds) and (func(xtry) <= fnow[i]):\n",
    "                dist = xnext[i] - xtry\n",
    "                if dist.max() >= atol:\n",
    "                    max_move = dist.max()\n",
    "\n",
    "                xnext[i] = xtry\n",
    "            else:\n",
    "                xnext[i] = xnow[i]\n",
    "        xnow = xnext\n",
    "    f_min_index = np.argmin(fnow)\n",
    "    return (xnext[f_min_index], fnow[f_min_index])"
   ]
  },
  {
   "cell_type": "markdown",
   "metadata": {},
   "source": [
    "- We first test a simple 2-D function with known output (also to make sure functions other than rosenbrock works...), the DE works OK."
   ]
  },
  {
   "cell_type": "code",
   "execution_count": null,
   "metadata": {},
   "outputs": [],
   "source": [
    "def some_func(all_args):\n",
    "    '''\n",
    "    A function for testing the implemented DE, result should be 2 and 3\n",
    "    '''\n",
    "    x = all_args[0]\n",
    "    y = all_args[1]\n",
    "    return (x - 2)**2 + (y - 3)**2"
   ]
  },
  {
   "cell_type": "code",
   "execution_count": 99,
   "metadata": {},
   "outputs": [
    {
     "data": {
      "text/plain": [
       "(array([1.9401375 , 2.91177737]), 0.011366752009538482)"
      ]
     },
     "execution_count": 99,
     "metadata": {},
     "output_type": "execute_result"
    }
   ],
   "source": [
    "bounds = ((0, 10), (0, 10))\n",
    "npop = 1000\n",
    "minimize_by_differential_evolution(some_func, npop, bounds, atol = 1.e-25) "
   ]
  },
  {
   "cell_type": "markdown",
   "metadata": {},
   "source": [
    "- Now we can test Rosenbrock functiom"
   ]
  },
  {
   "cell_type": "code",
   "execution_count": 91,
   "metadata": {},
   "outputs": [],
   "source": [
    "def rosenbrock(x):\n",
    "    \"\"\"\n",
    "    The Rosenbrock \"banana\" function\n",
    "    x is a vector of points in 2 or more dimensional space\n",
    "    \"\"\"\n",
    "    return sum(100.0*(x[1:]-x[:-1]**2.0)**2.0 + (1-x[:-1])**2.0)"
   ]
  },
  {
   "cell_type": "code",
   "execution_count": 108,
   "metadata": {},
   "outputs": [
    {
     "data": {
      "text/plain": [
       "(array([0.93033536, 0.85943123]), 0.008565200084450879)"
      ]
     },
     "execution_count": 108,
     "metadata": {},
     "output_type": "execute_result"
    }
   ],
   "source": [
    "#2D\n",
    "bounds = ((0, 10), (0, 10))\n",
    "npop = 1000\n",
    "minimize_by_differential_evolution(rosenbrock, npop, bounds, atol = 1.e-30) "
   ]
  },
  {
   "cell_type": "code",
   "execution_count": 140,
   "metadata": {},
   "outputs": [
    {
     "data": {
      "text/plain": [
       "(array([0.56443042, 0.63330013, 1.0566027 , 1.34512873, 1.66380415]),\n",
       " 60.67395225352002)"
      ]
     },
     "execution_count": 140,
     "metadata": {},
     "output_type": "execute_result"
    }
   ],
   "source": [
    "#5D\n",
    "bounds = ((0, 10), (0, 10), (0, 10), (0, 10), (0, 10))\n",
    "npop = 5000\n",
    "minimize_by_differential_evolution(rosenbrock, npop, bounds, atol = 1.e-35)"
   ]
  },
  {
   "cell_type": "markdown",
   "metadata": {},
   "source": [
    "- 2D seems to have better result than 5D. I tried to increase the npop and decrease atol to obtain higher accuracy for 5D without significant results."
   ]
  },
  {
   "cell_type": "markdown",
   "metadata": {},
   "source": [
    "- DE takes longer to run when the npop is greater, but that have a higher chance to give more accurate results. While having different s does not seem to have effected the speed or accuracy of minimization."
   ]
  },
  {
   "cell_type": "markdown",
   "metadata": {},
   "source": [
    "**Task 3b (5 points).** Use the DE routine you implemented to find the minimum of the $\\chi^2$ function as a function of $\\Omega_{\\rm m0}$, $\\Omega_\\Lambda$, and $\\tilde{M}_0$ that you used in hw 3. Check that results you get are similar to what you obtained in hw 3. \n",
    "\n",
    "If you do not succeed implementing routine fully, you can still do this part of the task using routine <tt>scipy.optimize.differential_evolution</tt>, as illustrated in the <a href=\"05_optimization.ipynb\"><tt>05_optimization.ipynb</tt></a> notebook."
   ]
  },
  {
   "cell_type": "code",
   "execution_count": 123,
   "metadata": {},
   "outputs": [],
   "source": [
    "from codes.read_data import read_jla_data\n",
    "zCMB, mB, emB = read_jla_data(sn_list_name = 'data/jla_lcparams.txt')"
   ]
  },
  {
   "cell_type": "code",
   "execution_count": 124,
   "metadata": {},
   "outputs": [],
   "source": [
    "#from hw3\n",
    "def polyfit2d(xtr, ytr, ftr, kx = 3, ky = 3, order = None):\n",
    "    x, y = np.meshgrid(xtr, ytr)\n",
    "    coeffs = np.ones((kx+1, ky+1))\n",
    "    V = np.zeros((coeffs.size, x.size))\n",
    "    for index, (j, i) in enumerate(np.ndindex(coeffs.shape)):\n",
    "        if order is not None and i + j > order:\n",
    "            arr = np.zeros_like(x)\n",
    "        else:\n",
    "            arr = coeffs[i, j] * x**i * y**j\n",
    "        V[index] = arr.flatten()\n",
    "    return np.linalg.lstsq(V.T, np.ravel(ftr), rcond=None)[0]\n",
    "\n",
    "def chebyshev_nodes2(a, b, N):\n",
    "    return a + 0.5*(b-a)*(1. + np.cos(np.arange(N+1)*np.pi/N))\n",
    "\n",
    "def cal_dL_2d(Om0_array, OmL_array, z, H0): \n",
    "    f = []\n",
    "    for OmL in OmL_array:\n",
    "        l1 = []\n",
    "        for Om0 in Om0_array:\n",
    "            l1.append(d_L_vectorized(z, H0, Om0, OmL))\n",
    "        f.append(l1)\n",
    "    return f\n",
    "\n",
    "deg = 13\n",
    "def get_poly_matrix_3d(zCMB, ntrx, ntry):\n",
    "    lmin, lmax, ntr = 0.0, 1.0, 20\n",
    "    Om0tr = chebyshev_nodes2(lmin, lmax, ntrx + 1)[::-1]\n",
    "    OmLtr = chebyshev_nodes2(lmin, lmax, ntry + 1)[::-1]\n",
    "    dLz = []\n",
    "    for z in zCMB:\n",
    "        ftr = cal_dL_2d(Om0tr, OmLtr, z, H0)\n",
    "        dLz.append(polyfit2d(Om0tr, OmLtr, ftr, kx=deg, ky=deg, order=None))\n",
    "    return np.asarray(dLz)\n",
    "\n",
    "dLz = get_poly_matrix_3d(zCMB, 10, 10)\n",
    "\n",
    "H0 = 70.\n",
    "def calc_reduced_chi2(params): \n",
    "    Omega0, OmegaL, M0 = params\n",
    "    '''\n",
    "    Compute chi^2 using provided equation by summing overall all SNe using \n",
    "    approximations for tilde{d}_L described above\n",
    "    '''\n",
    "    chi2 = 0\n",
    "    tM0 = M0 + 5*np.log10(clight/H0) + 25\n",
    "    for i in range(len(zCMB)):\n",
    "        d_L = np.polynomial.polynomial.polyval2d(Omega0, OmegaL, dLz[i].reshape((deg + 1, deg + 1)))\n",
    "        del_mu = mB[i] - 5*np.log10(d_L) - tM0\n",
    "        chi2 += (del_mu**2)/(emB[i]**2)\n",
    "    return chi2/(len(zCMB) - 3)"
   ]
  },
  {
   "cell_type": "code",
   "execution_count": 126,
   "metadata": {},
   "outputs": [
    {
     "data": {
      "text/plain": [
       "(array([  0.40480029,   0.37323473, -37.20540531]), 6.255474235432693)"
      ]
     },
     "execution_count": 126,
     "metadata": {},
     "output_type": "execute_result"
    }
   ],
   "source": [
    "bounds = ((0, 1), (0, 1), (-45, 30))\n",
    "npop = 1000\n",
    "minimize_by_differential_evolution(calc_reduced_chi2, npop, bounds, atol = 1.e-30) "
   ]
  },
  {
   "cell_type": "markdown",
   "metadata": {},
   "source": [
    "- The minimum chi^2 of 6.25 is pretty close to the ~6.22 from hw3.\n",
    "- The M0 of -37.2 is basically the same result as all methods used in hw3.\n",
    "- The Om0 of 0.405 is not as close to 0.322 from hw3, but OmL of 0.373 is pretty close to 0.375 from hw3."
   ]
  }
 ],
 "metadata": {
  "kernelspec": {
   "display_name": "Python 3",
   "language": "python",
   "name": "python3"
  },
  "language_info": {
   "codemirror_mode": {
    "name": "ipython",
    "version": 3
   },
   "file_extension": ".py",
   "mimetype": "text/x-python",
   "name": "python",
   "nbconvert_exporter": "python",
   "pygments_lexer": "ipython3",
   "version": "3.6.5"
  }
 },
 "nbformat": 4,
 "nbformat_minor": 1
}
